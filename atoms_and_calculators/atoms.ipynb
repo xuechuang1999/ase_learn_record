{
 "cells": [
  {
   "cell_type": "markdown",
   "metadata": {},
   "source": [
    "electronic structure code: GPAW\n"
   ]
  },
  {
   "cell_type": "markdown",
   "metadata": {},
   "source": [
    "set up a molecule and run a dft calculation, create a mulecular by manully typing the chemical symbols and a guess for the atomic positions in Angstroms. Then run a dft calculation to get the total energy of the molecule.\n",
    "\n",
    "visualize the molecule using `ASE GUI`"
   ]
  },
  {
   "cell_type": "code",
   "execution_count": 5,
   "metadata": {},
   "outputs": [
    {
     "data": {
      "text/plain": [
       "<Popen: returncode: None args: ['d:\\\\ProgramData\\\\anaconda3\\\\python.exe', '-...>"
      ]
     },
     "execution_count": 5,
     "metadata": {},
     "output_type": "execute_result"
    }
   ],
   "source": [
    "from ase import Atoms\n",
    "atoms = Atoms('N2', positions=[[0, -1, 0], [0, 1, 0]])\n",
    "\n",
    "from ase.visualize import view\n",
    "view(atoms)"
   ]
  },
  {
   "cell_type": "markdown",
   "metadata": {},
   "source": [
    "also can save the atoms in some format, often ASE's own `trajectory` format\n",
    "\n",
    "and then can run the GUI from a terminal"
   ]
  },
  {
   "cell_type": "code",
   "execution_count": 2,
   "metadata": {},
   "outputs": [],
   "source": [
    "from ase.io import write\n",
    "write('myatoms.traj', atoms)"
   ]
  },
  {
   "cell_type": "markdown",
   "metadata": {},
   "source": [
    "run the gui from a terminal\n",
    "`$ ase gui myatoms.traj`\n",
    "\n",
    "ase supports formats list:\n",
    "`$ ase info --formats`\n",
    "\n",
    "\n",
    "`$ ase --help`"
   ]
  },
  {
   "cell_type": "markdown",
   "metadata": {},
   "source": [
    "## calculators\n",
    "ASE uses `calculators` to perform calculations."
   ]
  },
  {
   "cell_type": "markdown",
   "metadata": {},
   "source": []
  },
  {
   "cell_type": "code",
   "execution_count": 6,
   "metadata": {},
   "outputs": [
    {
     "ename": "ModuleNotFoundError",
     "evalue": "No module named 'gpaw'",
     "output_type": "error",
     "traceback": [
      "\u001b[1;31m---------------------------------------------------------------------------\u001b[0m",
      "\u001b[1;31mModuleNotFoundError\u001b[0m                       Traceback (most recent call last)",
      "Cell \u001b[1;32mIn[6], line 1\u001b[0m\n\u001b[1;32m----> 1\u001b[0m \u001b[38;5;28;01mfrom\u001b[39;00m \u001b[38;5;21;01mgpaw\u001b[39;00m \u001b[38;5;28;01mimport\u001b[39;00m GPAW\n\u001b[0;32m      3\u001b[0m calc \u001b[38;5;241m=\u001b[39m GPAW(mode\u001b[38;5;241m=\u001b[39m\u001b[38;5;124m'\u001b[39m\u001b[38;5;124mlcao\u001b[39m\u001b[38;5;124m'\u001b[39m, basis\u001b[38;5;241m=\u001b[39m\u001b[38;5;124m'\u001b[39m\u001b[38;5;124mdzp\u001b[39m\u001b[38;5;124m'\u001b[39m, txt\u001b[38;5;241m=\u001b[39m\u001b[38;5;124m'\u001b[39m\u001b[38;5;124mgpaw.txt\u001b[39m\u001b[38;5;124m'\u001b[39m, xc\u001b[38;5;241m=\u001b[39m\u001b[38;5;124m'\u001b[39m\u001b[38;5;124mLDA\u001b[39m\u001b[38;5;124m'\u001b[39m)\n\u001b[0;32m      4\u001b[0m atoms\u001b[38;5;241m.\u001b[39mcalc \u001b[38;5;241m=\u001b[39m calc\n",
      "\u001b[1;31mModuleNotFoundError\u001b[0m: No module named 'gpaw'"
     ]
    }
   ],
   "source": [
    "from gpaw import GPAW\n",
    "\n",
    "calc = GPAW(mode='lcao', basis='dzp', txt='gpaw.txt', xc='LDA')\n",
    "atoms.calc = calc"
   ]
  }
 ],
 "metadata": {
  "kernelspec": {
   "display_name": "base",
   "language": "python",
   "name": "python3"
  },
  "language_info": {
   "codemirror_mode": {
    "name": "ipython",
    "version": 3
   },
   "file_extension": ".py",
   "mimetype": "text/x-python",
   "name": "python",
   "nbconvert_exporter": "python",
   "pygments_lexer": "ipython3",
   "version": "3.12.7"
  }
 },
 "nbformat": 4,
 "nbformat_minor": 2
}
