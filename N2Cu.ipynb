{
 "cells": [
  {
   "cell_type": "code",
   "execution_count": 2,
   "metadata": {},
   "outputs": [
    {
     "name": "stdout",
     "output_type": "stream",
     "text": [
      "                Step[ FC]     Time          Energy          fmax\n",
      "BFGSLineSearch:    0[  0] 22:19:30       11.689927       1.0797\n",
      "BFGSLineSearch:    1[  2] 22:19:30       11.670814       0.4090\n",
      "BFGSLineSearch:    2[  4] 22:19:30       11.625880       0.0409\n",
      "Adsorption energy: 0.32351942231764497\n"
     ]
    }
   ],
   "source": [
    "from ase import Atoms\n",
    "from ase.build import add_adsorbate, fcc111\n",
    "from ase.calculators.emt import EMT\n",
    "from ase.constraints import FixAtoms\n",
    "from ase.optimize import QuasiNewton\n",
    "\n",
    "h = 1.85\n",
    "d = 1.10\n",
    "\n",
    "slab = fcc111('Cu', size=(4, 4, 2), vacuum=10.0)\n",
    "\n",
    "slab.calc = EMT()\n",
    "e_slab = slab.get_potential_energy()\n",
    "\n",
    "molecule = Atoms('2N', positions=[(0., 0., 0.), (0., 0., d)])\n",
    "molecule.calc = EMT()\n",
    "e_N2 = molecule.get_potential_energy()\n",
    "\n",
    "add_adsorbate(slab, molecule, h, 'ontop')\n",
    "constraint = FixAtoms(mask=[a.symbol != 'N' for a in slab])\n",
    "slab.set_constraint(constraint)\n",
    "dyn = QuasiNewton(slab, trajectory='N2Cu.traj')\n",
    "dyn.run(fmax=0.05)\n",
    "\n",
    "print('Adsorption energy:', e_slab + e_N2 - slab.get_potential_energy())"
   ]
  },
  {
   "cell_type": "code",
   "execution_count": 3,
   "metadata": {},
   "outputs": [],
   "source": [
    "from ase import Atoms\n",
    "d = 1.10\n",
    "molecule = Atoms('2N', positions=[(0., 0., 0.), (0., 0., d)])"
   ]
  },
  {
   "cell_type": "code",
   "execution_count": 4,
   "metadata": {},
   "outputs": [],
   "source": [
    "from ase.calculators.emt import EMT\n",
    "slab.calc = EMT()\n",
    "molecule.calc = EMT()"
   ]
  },
  {
   "cell_type": "code",
   "execution_count": 5,
   "metadata": {},
   "outputs": [],
   "source": [
    "e_slab = slab.get_potential_energy()\n",
    "e_N2 = molecule.get_potential_energy()"
   ]
  },
  {
   "cell_type": "code",
   "execution_count": 6,
   "metadata": {},
   "outputs": [],
   "source": [
    "h = 1.85\n",
    "add_adsorbate(slab, molecule, h, 'ontop')"
   ]
  },
  {
   "cell_type": "code",
   "execution_count": 7,
   "metadata": {},
   "outputs": [],
   "source": [
    "from ase.constraints import FixAtoms\n",
    "constraint = FixAtoms(mask=[a.symbol != 'N' for a in slab])\n",
    "slab.set_constraint(constraint)"
   ]
  },
  {
   "cell_type": "code",
   "execution_count": 8,
   "metadata": {},
   "outputs": [
    {
     "name": "stdout",
     "output_type": "stream",
     "text": [
      "                Step[ FC]     Time          Energy          fmax\n",
      "BFGSLineSearch:    0[  0] 22:22:34      100.771861     177.1059\n",
      "BFGSLineSearch:    1[  1] 22:22:34       48.487314      58.9753\n",
      "BFGSLineSearch:    2[  2] 22:22:34       35.089631      52.1726\n",
      "BFGSLineSearch:    3[  4] 22:22:34       34.033907      44.0782\n",
      "BFGSLineSearch:    4[  8] 22:22:34       18.025297      17.9341\n",
      "BFGSLineSearch:    5[ 11] 22:22:34       13.143099       6.4700\n",
      "BFGSLineSearch:    6[ 13] 22:22:34       11.987967       2.2695\n",
      "BFGSLineSearch:    7[ 14] 22:22:34       11.847800       0.9755\n",
      "BFGSLineSearch:    8[ 15] 22:22:34       11.833219       0.5457\n",
      "BFGSLineSearch:    9[ 17] 22:22:34       11.826725       0.5450\n",
      "BFGSLineSearch:   10[ 19] 22:22:34       11.807604       0.2287\n",
      "BFGSLineSearch:   11[ 20] 22:22:34       11.806457       0.2842\n",
      "BFGSLineSearch:   12[ 21] 22:22:34       11.805081       0.2272\n",
      "BFGSLineSearch:   13[ 22] 22:22:34       11.804060       0.0930\n",
      "BFGSLineSearch:   14[ 23] 22:22:34       11.803883       0.0198\n"
     ]
    },
    {
     "data": {
      "text/plain": [
       "True"
      ]
     },
     "execution_count": 8,
     "metadata": {},
     "output_type": "execute_result"
    }
   ],
   "source": [
    "from ase.optimize import QuasiNewton\n",
    "dyn = QuasiNewton(slab, trajectory='N2Cu.traj')\n",
    "dyn.run(fmax=0.05)"
   ]
  },
  {
   "cell_type": "code",
   "execution_count": 9,
   "metadata": {},
   "outputs": [
    {
     "name": "stderr",
     "output_type": "stream",
     "text": [
      "C:\\Users\\23210\\AppData\\Roaming\\Python\\Python312\\site-packages\\ase\\io\\extxyz.py:311: UserWarning: Skipping unhashable information adsorbate_info\n",
      "  warnings.warn('Skipping unhashable information '\n"
     ]
    }
   ],
   "source": [
    "from ase.io import write\n",
    "write('slab.xyz', slab)"
   ]
  },
  {
   "cell_type": "code",
   "execution_count": 11,
   "metadata": {},
   "outputs": [],
   "source": [
    "from ase.io import read\n",
    "slab = read('slab.xyz')"
   ]
  },
  {
   "cell_type": "code",
   "execution_count": 12,
   "metadata": {},
   "outputs": [
    {
     "ename": "FileNotFoundError",
     "evalue": "[Errno 2] No such file or directory: 'slab.traj'",
     "output_type": "error",
     "traceback": [
      "\u001b[1;31m---------------------------------------------------------------------------\u001b[0m",
      "\u001b[1;31mFileNotFoundError\u001b[0m                         Traceback (most recent call last)",
      "Cell \u001b[1;32mIn[12], line 1\u001b[0m\n\u001b[1;32m----> 1\u001b[0m read(\u001b[38;5;124m'\u001b[39m\u001b[38;5;124mslab.traj\u001b[39m\u001b[38;5;124m'\u001b[39m)\n\u001b[0;32m      2\u001b[0m read(\u001b[38;5;124m'\u001b[39m\u001b[38;5;124mslab.traj\u001b[39m\u001b[38;5;124m'\u001b[39m, \u001b[38;5;241m-\u001b[39m\u001b[38;5;241m1\u001b[39m)\n\u001b[0;32m      3\u001b[0m read(\u001b[38;5;124m'\u001b[39m\u001b[38;5;124mslab.traj\u001b[39m\u001b[38;5;124m'\u001b[39m, \u001b[38;5;241m0\u001b[39m)\n",
      "File \u001b[1;32m~\\AppData\\Roaming\\Python\\Python312\\site-packages\\ase\\io\\formats.py:802\u001b[0m, in \u001b[0;36mread\u001b[1;34m(filename, index, format, parallel, do_not_split_by_at_sign, **kwargs)\u001b[0m\n\u001b[0;32m    800\u001b[0m \u001b[38;5;28;01mif\u001b[39;00m index \u001b[38;5;129;01mis\u001b[39;00m \u001b[38;5;28;01mNone\u001b[39;00m:\n\u001b[0;32m    801\u001b[0m     index \u001b[38;5;241m=\u001b[39m \u001b[38;5;241m-\u001b[39m\u001b[38;5;241m1\u001b[39m\n\u001b[1;32m--> 802\u001b[0m \u001b[38;5;28mformat\u001b[39m \u001b[38;5;241m=\u001b[39m \u001b[38;5;28mformat\u001b[39m \u001b[38;5;129;01mor\u001b[39;00m filetype(filename, read\u001b[38;5;241m=\u001b[39m\u001b[38;5;28misinstance\u001b[39m(filename, \u001b[38;5;28mstr\u001b[39m))\n\u001b[0;32m    804\u001b[0m io \u001b[38;5;241m=\u001b[39m get_ioformat(\u001b[38;5;28mformat\u001b[39m)\n\u001b[0;32m    805\u001b[0m \u001b[38;5;28;01mif\u001b[39;00m \u001b[38;5;28misinstance\u001b[39m(index, (\u001b[38;5;28mslice\u001b[39m, \u001b[38;5;28mstr\u001b[39m)):\n",
      "File \u001b[1;32m~\\AppData\\Roaming\\Python\\Python312\\site-packages\\ase\\io\\formats.py:974\u001b[0m, in \u001b[0;36mfiletype\u001b[1;34m(filename, read, guess)\u001b[0m\n\u001b[0;32m    971\u001b[0m     \u001b[38;5;28;01mreturn\u001b[39;00m ext\n\u001b[0;32m    973\u001b[0m \u001b[38;5;28;01mif\u001b[39;00m orig_filename \u001b[38;5;241m==\u001b[39m filename:\n\u001b[1;32m--> 974\u001b[0m     fd \u001b[38;5;241m=\u001b[39m open_with_compression(filename, \u001b[38;5;124m'\u001b[39m\u001b[38;5;124mrb\u001b[39m\u001b[38;5;124m'\u001b[39m)\n\u001b[0;32m    975\u001b[0m \u001b[38;5;28;01melse\u001b[39;00m:\n\u001b[0;32m    976\u001b[0m     fd \u001b[38;5;241m=\u001b[39m orig_filename  \u001b[38;5;66;03m# type: ignore[assignment]\u001b[39;00m\n",
      "File \u001b[1;32m~\\AppData\\Roaming\\Python\\Python312\\site-packages\\ase\\io\\formats.py:606\u001b[0m, in \u001b[0;36mopen_with_compression\u001b[1;34m(filename, mode)\u001b[0m\n\u001b[0;32m    603\u001b[0m     \u001b[38;5;28;01mreturn\u001b[39;00m lzma\u001b[38;5;241m.\u001b[39mopen(filename, mode)\n\u001b[0;32m    604\u001b[0m \u001b[38;5;28;01melse\u001b[39;00m:\n\u001b[0;32m    605\u001b[0m     \u001b[38;5;66;03m# Either None or unknown string\u001b[39;00m\n\u001b[1;32m--> 606\u001b[0m     \u001b[38;5;28;01mreturn\u001b[39;00m \u001b[38;5;28mopen\u001b[39m(filename, mode)\n",
      "\u001b[1;31mFileNotFoundError\u001b[0m: [Errno 2] No such file or directory: 'slab.traj'"
     ]
    }
   ],
   "source": [
    "# read('slab.traj')\n",
    "# read('slab.traj', -1)\n",
    "# read('slab.traj', 0)"
   ]
  },
  {
   "cell_type": "code",
   "execution_count": 16,
   "metadata": {},
   "outputs": [
    {
     "data": {
      "text/plain": [
       "<Popen: returncode: None args: ['d:\\\\ProgramData\\\\anaconda3\\\\python.exe', '-...>"
      ]
     },
     "execution_count": 16,
     "metadata": {},
     "output_type": "execute_result"
    }
   ],
   "source": [
    "from ase.visualize import view\n",
    "view(slab)\n"
   ]
  },
  {
   "cell_type": "code",
   "execution_count": 18,
   "metadata": {},
   "outputs": [
    {
     "data": {
      "text/plain": [
       "<Popen: returncode: None args: ['d:\\\\ProgramData\\\\anaconda3\\\\python.exe', '-...>"
      ]
     },
     "execution_count": 18,
     "metadata": {},
     "output_type": "execute_result"
    }
   ],
   "source": [
    "view(slab, viewer='VMD', data={'a': 1, 'b': 2})"
   ]
  },
  {
   "cell_type": "code",
   "execution_count": 23,
   "metadata": {},
   "outputs": [
    {
     "name": "stdout",
     "output_type": "stream",
     "text": [
      " 0: 0.44034 eV, 0.00000 eV, 0.44034 eV\n",
      " 1: 0.26289 eV, 0.00000 eV, 0.26289 eV\n",
      " 2: 0.43142 eV, 0.00000 eV, 0.43142 eV\n",
      " 3: 0.29292 eV, 0.00000 eV, 0.29292 eV\n",
      " 4: 0.41839 eV, 0.00000 eV, 0.41839 eV\n",
      " 5: 0.28902 eV, 0.00000 eV, 0.28902 eV\n",
      " 6: 0.36902 eV, 0.00000 eV, 0.36902 eV\n",
      " 7: 0.35507 eV, 0.00000 eV, 0.35507 eV\n",
      " 8: 0.36221 eV, 0.00000 eV, 0.36221 eV\n",
      " 9: 0.36044 eV, 0.00000 eV, 0.36044 eV\n",
      "10: 0.29518 eV, 0.00000 eV, 0.29518 eV\n",
      "11: 0.41360 eV, 0.00000 eV, 0.4136 eV\n",
      "12: 0.29872 eV, 0.00000 eV, 0.29872 eV\n",
      "13: 0.42707 eV, 0.00000 eV, 0.42707 eV\n",
      "14: 0.26284 eV, 0.00000 eV, 0.26284 eV\n",
      "15: 0.44008 eV, 0.00000 eV, 0.44008 eV\n",
      "16: 0.26364 eV, 0.00000 eV, 0.26364 eV\n",
      "17: 0.43498 eV, 0.00000 eV, 0.43498 eV\n",
      "18: 0.28750 eV, 0.00000 eV, 0.2875 eV\n",
      "19: 0.42275 eV, 0.00000 eV, 0.42275 eV\n",
      "20: 0.28343 eV, 0.00000 eV, 0.28343 eV\n",
      "21: 0.37746 eV, 0.00000 eV, 0.37746 eV\n",
      "22: 0.34789 eV, 0.00000 eV, 0.34789 eV\n",
      "23: 0.36925 eV, 0.00000 eV, 0.36925 eV\n",
      "24: 0.35181 eV, 0.00000 eV, 0.35181 eV\n",
      "25: 0.30187 eV, 0.00000 eV, 0.30187 eV\n",
      "26: 0.40843 eV, 0.00000 eV, 0.40843 eV\n",
      "27: 0.30487 eV, 0.00000 eV, 0.30487 eV\n",
      "28: 0.42197 eV, 0.00000 eV, 0.42197 eV\n",
      "29: 0.26349 eV, 0.00000 eV, 0.26349 eV\n",
      "30: 0.43928 eV, 0.00000 eV, 0.43928 eV\n",
      "31: 0.26507 eV, 0.00000 eV, 0.26507 eV\n",
      "32: 0.43772 eV, 0.00000 eV, 0.43772 eV\n",
      "33: 0.28251 eV, 0.00000 eV, 0.28251 eV\n",
      "34: 0.42668 eV, 0.00000 eV, 0.42668 eV\n",
      "35: 0.27845 eV, 0.00000 eV, 0.27845 eV\n",
      "36: 0.38569 eV, 0.00000 eV, 0.38569 eV\n",
      "37: 0.34070 eV, 0.00000 eV, 0.3407 eV\n",
      "38: 0.37614 eV, 0.00000 eV, 0.37614 eV\n",
      "39: 0.34322 eV, 0.00000 eV, 0.34322 eV\n",
      "40: 0.30905 eV, 0.00000 eV, 0.30905 eV\n",
      "41: 0.40288 eV, 0.00000 eV, 0.40288 eV\n",
      "42: 0.31131 eV, 0.00000 eV, 0.31131 eV\n",
      "43: 0.41619 eV, 0.00000 eV, 0.41619 eV\n",
      "44: 0.26486 eV, 0.00000 eV, 0.26486 eV\n",
      "45: 0.43795 eV, 0.00000 eV, 0.43795 eV\n",
      "46: 0.26715 eV, 0.00000 eV, 0.26715 eV\n",
      "47: 0.43959 eV, 0.00000 eV, 0.43959 eV\n",
      "48: 0.27800 eV, 0.00000 eV, 0.278 eV\n",
      "49: 0.43013 eV, 0.00000 eV, 0.43013 eV\n",
      "50: 0.27413 eV, 0.00000 eV, 0.27413 eV\n",
      "51: 0.39361 eV, 0.00000 eV, 0.39361 eV\n",
      "52: 0.33355 eV, 0.00000 eV, 0.33355 eV\n",
      "53: 0.38286 eV, 0.00000 eV, 0.38286 eV\n",
      "54: 0.33474 eV, 0.00000 eV, 0.33474 eV\n",
      "55: 0.31664 eV, 0.00000 eV, 0.31664 eV\n",
      "56: 0.39701 eV, 0.00000 eV, 0.39701 eV\n",
      "57: 0.31799 eV, 0.00000 eV, 0.31799 eV\n",
      "58: 0.40979 eV, 0.00000 eV, 0.40979 eV\n",
      "59: 0.26694 eV, 0.00000 eV, 0.26694 eV\n",
      "60: 0.43609 eV, 0.00000 eV, 0.43609 eV\n",
      "61: 0.26986 eV, 0.00000 eV, 0.26986 eV\n",
      "62: 0.44058 eV, 0.00000 eV, 0.44058 eV\n",
      "63: 0.27401 eV, 0.00000 eV, 0.27401 eV\n",
      "64: 0.43311 eV, 0.00000 eV, 0.43311 eV\n",
      "65: 0.27048 eV, 0.00000 eV, 0.27048 eV\n",
      "66: 0.40115 eV, 0.00000 eV, 0.40115 eV\n",
      "67: 0.32649 eV, 0.00000 eV, 0.32649 eV\n",
      "68: 0.38936 eV, 0.00000 eV, 0.38936 eV\n",
      "69: 0.32646 eV, 0.00000 eV, 0.32646 eV\n",
      "70: 0.32458 eV, 0.00000 eV, 0.32458 eV\n",
      "71: 0.39083 eV, 0.00000 eV, 0.39083 eV\n",
      "72: 0.32488 eV, 0.00000 eV, 0.32488 eV\n",
      "73: 0.40283 eV, 0.00000 eV, 0.40283 eV\n",
      "74: 0.26974 eV, 0.00000 eV, 0.26974 eV\n",
      "75: 0.43373 eV, 0.00000 eV, 0.43373 eV\n",
      "76: 0.27316 eV, 0.00000 eV, 0.27316 eV\n",
      "77: 0.44069 eV, 0.00000 eV, 0.44069 eV\n",
      "78: 0.27057 eV, 0.00000 eV, 0.27057 eV\n",
      "79: 0.43559 eV, 0.00000 eV, 0.43559 eV\n",
      "80: 0.26753 eV, 0.00000 eV, 0.26753 eV\n",
      "81: 0.40823 eV, 0.00000 eV, 0.40823 eV\n",
      "82: 0.31957 eV, 0.00000 eV, 0.31957 eV\n",
      "83: 0.39561 eV, 0.00000 eV, 0.39561 eV\n",
      "84: 0.31844 eV, 0.00000 eV, 0.31844 eV\n",
      "85: 0.33281 eV, 0.00000 eV, 0.33281 eV\n",
      "86: 0.38439 eV, 0.00000 eV, 0.38439 eV\n",
      "87: 0.33191 eV, 0.00000 eV, 0.33191 eV\n",
      "88: 0.39539 eV, 0.00000 eV, 0.39539 eV\n",
      "89: 0.27323 eV, 0.00000 eV, 0.27323 eV\n",
      "90: 0.43087 eV, 0.00000 eV, 0.43087 eV\n",
      "91: 0.27703 eV, 0.00000 eV, 0.27703 eV\n",
      "92: 0.43990 eV, 0.00000 eV, 0.4399 eV\n",
      "93: 0.26772 eV, 0.00000 eV, 0.26772 eV\n",
      "94: 0.43756 eV, 0.00000 eV, 0.43756 eV\n",
      "95: 0.26528 eV, 0.00000 eV, 0.26528 eV\n",
      "96: 0.41477 eV, 0.00000 eV, 0.41477 eV\n",
      "97: 0.31283 eV, 0.00000 eV, 0.31283 eV\n",
      "98: 0.40155 eV, 0.00000 eV, 0.40155 eV\n",
      "99: 0.31076 eV, 0.00000 eV, 0.31076 eV\n"
     ]
    }
   ],
   "source": [
    "from ase.md.verlet import VelocityVerlet\n",
    "from ase import units\n",
    "dyn = VelocityVerlet(molecule, timestep=1.0 * units.fs)\n",
    "for i in range(100):\n",
    "    pot = molecule.get_potential_energy()\n",
    "    kin = slab.get_kinetic_energy()\n",
    "    print('%2d: %.5f eV, %.5f eV, %.5g eV' % (i, pot, kin, pot + kin))\n",
    "    dyn.run(steps=20)"
   ]
  }
 ],
 "metadata": {
  "kernelspec": {
   "display_name": "base",
   "language": "python",
   "name": "python3"
  },
  "language_info": {
   "codemirror_mode": {
    "name": "ipython",
    "version": 3
   },
   "file_extension": ".py",
   "mimetype": "text/x-python",
   "name": "python",
   "nbconvert_exporter": "python",
   "pygments_lexer": "ipython3",
   "version": "3.12.7"
  }
 },
 "nbformat": 4,
 "nbformat_minor": 2
}
